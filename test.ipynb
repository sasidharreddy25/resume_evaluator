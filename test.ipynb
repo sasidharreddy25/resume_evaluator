{
 "cells": [
  {
   "cell_type": "markdown",
   "metadata": {},
   "source": [
    "### Resume Fitment"
   ]
  },
  {
   "cell_type": "code",
   "execution_count": 5,
   "metadata": {},
   "outputs": [],
   "source": [
    "import os\n",
    "import glob\n",
    "from utils import Resume_Evaluator"
   ]
  },
  {
   "cell_type": "code",
   "execution_count": 6,
   "metadata": {},
   "outputs": [],
   "source": [
    "# openai type - Azureopenai or openai\n",
    "openai_type=\"azure_openai\" #if openai it should be 'openai'\n",
    "resume_evaluator=Resume_Evaluator(openai_type)"
   ]
  },
  {
   "cell_type": "code",
   "execution_count": 7,
   "metadata": {},
   "outputs": [
    {
     "name": "stdout",
     "output_type": "stream",
     "text": [
      "Length of requirements: 26\n",
      "Done for the Arushi_Gogia__-_Data Scientist_240730_221057.pdf\n",
      "Done for the RaviKumarCV.pdf\n",
      "Done for the sashidhar_GenAI.pdf\n",
      "Done for the Sashidhar_Resume.pdf\n",
      "Done for the Shashank_Resume_1.pdf\n"
     ]
    }
   ],
   "source": [
    "# Define the job description path, resume folder path. Both are in pdf format\n",
    "job_description_path=\"job_description.pdf\"\n",
    "resume_folder_path=\"resumes\"\n",
    "resumes_fitment=resume_evaluator.evaluate(job_description_path, resume_folder_path)"
   ]
  },
  {
   "cell_type": "code",
   "execution_count": 8,
   "metadata": {},
   "outputs": [
    {
     "name": "stdout",
     "output_type": "stream",
     "text": [
      "Resume ID:\n",
      "Arushi_Gogia__-_Data Scientist_240730_221057.pdf\n",
      "\n",
      "Resume score:\n",
      "0.8048076923076923\n",
      "\n",
      "Strengths:\n",
      "Experience in Python programming\n",
      "Experience working with SKLearn\n",
      "Experience working with XGBoost\n",
      "Experience working with Tensorflow\n",
      "Experience working with PyTorch\n",
      "\n",
      "Gaps:\n",
      "Lack of experience working with PyCaret for machine learning frameworks\n",
      "Lack of experience working with the Rasa deep learning framework\n",
      "Lack of experience in maintenance work\n",
      "\n",
      "Questions_to_Candidate:\n",
      "Do you have a Bachelor's Degree in Statistics?\n",
      "Do you have a Bachelor's Degree in Applied Mathematics?\n",
      "Can you describe the steps involved in the end-to-end machine learning project life cycle?\n",
      "Can you describe your experience in developing CI/CD pipelines?\n",
      "Can you describe your experience with models testing?\n",
      "Do you have at least 2 years of experience in implementing and deploying machine learning and deep learning frameworks on cloud platforms like AWS and GCP?\n",
      "---------------------------------------------------------------------\n",
      "\n",
      "Resume ID:\n",
      "sashidhar_GenAI.pdf\n",
      "\n",
      "Resume score:\n",
      "0.7307692307692307\n",
      "\n",
      "Strengths:\n",
      "Experience in Python programming\n",
      "Experience working with SKLearn\n",
      "Experience working with XGBoost\n",
      "Experience working with Tensorflow\n",
      "Experience working with PyTorch\n",
      "\n",
      "Gaps:\n",
      "Lack of Bachelor's Degree in Statistics\n",
      "Lack of Bachelor's Degree in Applied Mathematics\n",
      "No experience working with PyCaret for machine learning frameworks\n",
      "No experience working with the Rasa deep learning framework\n",
      "Lack of experience in maintenance work\n",
      "\n",
      "Questions_to_Candidate:\n",
      "What is your educational background?\n",
      "Do you have a degree in Computer Science?\n",
      "How many years of experience do you have in implementing and deploying machine learning and deep learning frameworks?\n",
      "Have you worked with cloud platforms like AWS and GCP?\n",
      "Can you provide examples of machine learning and deep learning frameworks that you have implemented and deployed on cloud platforms?\n",
      "---------------------------------------------------------------------\n",
      "\n",
      "Resume ID:\n",
      "Shashank_Resume_1.pdf\n",
      "\n",
      "Resume score:\n",
      "0.55\n",
      "\n",
      "Strengths:\n",
      "Experience in Python programming\n",
      "Experience working with Huggingface, a deep learning framework\n",
      "Experience in Natural Language Processing (NLP)\n",
      "Experience with Large Language Models (LLM)\n",
      "Experience in developing CI/CD pipelines\n",
      "\n",
      "Gaps:\n",
      "Lack of Bachelor's Degree in Statistics\n",
      "Lack of Bachelor's Degree in Applied Mathematics\n",
      "Lack of Bachelor's Degree in Computer Science\n",
      "Lack of experience working with SKLearn\n",
      "Lack of experience working with XGBoost\n",
      "\n",
      "Questions_to_Candidate:\n",
      "How many years of experience do you have in implementing and deploying machine learning and deep learning frameworks on cloud platforms like AWS and GCP?\n",
      "Can you provide examples of machine learning and deep learning frameworks that you have implemented and deployed on cloud platforms?\n",
      "What specific tasks did you perform during the implementation and deployment process?\n",
      "Can you explain the challenges you faced during the implementation and deployment process and how you overcame them?\n",
      "How do you ensure the accuracy and performance of the models during the training and evaluation process?\n",
      "---------------------------------------------------------------------\n",
      "\n",
      "Resume ID:\n",
      "Sashidhar_Resume.pdf\n",
      "\n",
      "Resume score:\n",
      "0.5423076923076924\n",
      "\n",
      "Strengths:\n",
      "Experience in Python programming\n",
      "Experience working with SKLearn\n",
      "Experience working with XGBoost\n",
      "Experience working with Tensorflow\n",
      "Experience working with Huggingface, a deep learning framework\n",
      "\n",
      "Gaps:\n",
      "Lack of Bachelor's Degree in Statistics or Applied Mathematics\n",
      "No experience working with PyCaret for machine learning frameworks\n",
      "No experience working with PyTorch\n",
      "No experience working with the Rasa deep learning framework\n",
      "Limited experience in developing CI/CD pipelines\n",
      "\n",
      "Questions_to_Candidate:\n",
      "What is your educational background?\n",
      "Can you provide examples of models you have tested in the past?\n",
      "Can you describe your experience with NLP and Large Language Models?\n",
      "Have you worked with machine learning and deep learning frameworks on cloud platforms like AWS and GCP?\n",
      "Can you explain the steps involved in model training and evaluation?\n",
      "---------------------------------------------------------------------\n",
      "\n",
      "Resume ID:\n",
      "RaviKumarCV.pdf\n",
      "\n",
      "Resume score:\n",
      "0.5423076923076923\n",
      "\n",
      "Strengths:\n",
      "Experience in Python programming\n",
      "Experience working with SKLearn\n",
      "Experience working with XGBoost\n",
      "Experience working with Tensorflow\n",
      "Experience working with PyTorch\n",
      "\n",
      "Gaps:\n",
      "Lack of Bachelor's Degree in Statistics\n",
      "Lack of Bachelor's Degree in Applied Mathematics\n",
      "Lack of Bachelor's Degree in Computer Science\n",
      "Lack of experience working with PyCaret for machine learning frameworks\n",
      "Lack of experience working with Huggingface, a deep learning framework\n",
      "\n",
      "Questions_to_Candidate:\n",
      "What is your experience in Natural Language Processing (NLP)?\n",
      "Can you provide examples of projects where you have developed CI/CD pipelines?\n",
      "Have you worked with machine learning and deep learning frameworks on cloud platforms like AWS and GCP?\n",
      "How many years of experience do you have in implementing and deploying machine learning and deep learning frameworks on cloud platforms?\n",
      "Can you describe your role and responsibilities in implementing and deploying machine learning and deep learning frameworks on cloud platforms?\n",
      "---------------------------------------------------------------------\n",
      "\n",
      "\n"
     ]
    }
   ],
   "source": [
    "print(resumes_fitment)"
   ]
  },
  {
   "cell_type": "code",
   "execution_count": null,
   "metadata": {},
   "outputs": [],
   "source": []
  },
  {
   "cell_type": "markdown",
   "metadata": {},
   "source": [
    "### Email Trigger"
   ]
  },
  {
   "cell_type": "code",
   "execution_count": 9,
   "metadata": {},
   "outputs": [],
   "source": [
    "from agents import Email_Agent\n",
    "from utils import collect_email_data"
   ]
  },
  {
   "cell_type": "code",
   "execution_count": 10,
   "metadata": {},
   "outputs": [],
   "source": [
    "# openai type - Azureopenai or openai\n",
    "openai_type=\"azure_openai\" #if openai it should be 'openai'\n",
    "email_writer=Email_Agent(openai_type)"
   ]
  },
  {
   "cell_type": "code",
   "execution_count": 11,
   "metadata": {},
   "outputs": [],
   "source": [
    "# Define the job description path, resume folder path. Both are in pdf format\n",
    "job_description_path=\"job_description.pdf\"\n",
    "resume_folder_path=\"resumes\""
   ]
  },
  {
   "cell_type": "code",
   "execution_count": 12,
   "metadata": {},
   "outputs": [
    {
     "name": "stdout",
     "output_type": "stream",
     "text": [
      "Enter Resume ID to send the email:\n",
      "Dear Sashidhar Reddy Duddukunta,\n",
      "\n",
      "We are pleased to inform you that you have been shortlisted for the position of LLM Engineer at Fynd. Congratulations on making it to the next round!\n",
      "\n",
      "We would like to schedule an interview with you to further discuss your qualifications and experience. The interview will be conducted online. Please let us know your availability for the interview so that we can arrange a suitable time.\n",
      "\n",
      "Looking forward to hearing from you soon.\n",
      "\n",
      "Best regards,\n",
      "Fynd\n",
      "-------------------------\n",
      "\n",
      "Do you Like to add anything to the mail? If yes, please give us your input\n",
      "\n",
      "If you feel the email looks good, type 'send' to send it to the candidate.\n",
      "\n",
      "\n",
      "Dear Sashidhar Reddy Duddukunta,\n",
      "\n",
      "We are pleased to inform you that you have been shortlisted for the position of LLM Engineer at Fynd. Congratulations on making it to the next round!\n",
      "\n",
      "We would like to schedule an interview with you to further discuss your qualifications and experience. The interview will be conducted online. Please let us know your availability for the interview so that we can arrange a suitable time.\n",
      "\n",
      "Also, please make sure to send us your updated resume in PDF format, as we require it for our records.\n",
      "\n",
      "Looking forward to hearing from you soon.\n",
      "\n",
      "Best regards,\n",
      "Fynd\n",
      "-------------------------\n",
      "\n",
      "Do you Like to add anything to the mail? If yes, please give us your input\n",
      "\n",
      "If you feel the email looks good, type 'send' to send it to the candidate.\n",
      "\n",
      "\n",
      "Email has been sucessfully send to the Sashidhar Reddy Duddukunta with email_id: dsasidharreddy867@gmail.com\n",
      "-------------------------\n"
     ]
    }
   ],
   "source": [
    "print(\"Enter Resume ID to send the email:\")\n",
    "resume_id=input()\n",
    "job_description, resume_text=collect_email_data(resume_id, job_description_path, resume_folder_path)\n",
    "e=email_writer.agent(resume_text, job_description, '')\n",
    "print(e)\n",
    "print('-------------------------')\n",
    "print('\\nDo you Like to add anything to the mail? If yes, please give us your input')\n",
    "print(\"\\nIf you feel the email looks good, type 'send' to send it to the candidate.\\n\\n\")\n",
    "while True:\n",
    "    user_message=input()\n",
    "    e=email_writer.agent(resume_text, job_description, user_message)\n",
    "    print(e)\n",
    "    print('-------------------------')\n",
    "    if user_message==\"send\":\n",
    "        break\n",
    "    print('\\nDo you Like to add anything to the mail? If yes, please give us your input')\n",
    "    print(\"\\nIf you feel the email looks good, type 'send' to send it to the candidate.\\n\\n\")"
   ]
  },
  {
   "cell_type": "code",
   "execution_count": null,
   "metadata": {},
   "outputs": [],
   "source": []
  },
  {
   "cell_type": "code",
   "execution_count": null,
   "metadata": {},
   "outputs": [],
   "source": []
  }
 ],
 "metadata": {
  "kernelspec": {
   "display_name": "Python 3",
   "language": "python",
   "name": "python3"
  },
  "language_info": {
   "codemirror_mode": {
    "name": "ipython",
    "version": 3
   },
   "file_extension": ".py",
   "mimetype": "text/x-python",
   "name": "python",
   "nbconvert_exporter": "python",
   "pygments_lexer": "ipython3",
   "version": "3.12.2"
  }
 },
 "nbformat": 4,
 "nbformat_minor": 2
}
